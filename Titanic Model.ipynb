{
 "cells": [
  {
   "cell_type": "code",
   "execution_count": 1,
   "metadata": {},
   "outputs": [],
   "source": [
    "import numpy as np \n",
    "import pandas as pd \n",
    "import matplotlib.pyplot as plt\n",
    "import seaborn as sns\n",
    "import os"
   ]
  },
  {
   "cell_type": "code",
   "execution_count": null,
   "metadata": {},
   "outputs": [],
   "source": [
    "for dirname, _, filenames in os.walk('/kaggle/input'):\n",
    "    for filename in filenames:\n",
    "        print(os.path.join(dirname, filename))\n",
    "\n",
    "#Read .csv files in dataframes.\n",
    "train_df = pd.read_csv(\"Titanic_train.csv\")\n",
    "test_df = pd.read_csv(\"test.csv \")\n",
    "\n",
    "#function to show the total number of values of each field in the dataframe.\n",
    "train_df.isna().sum()\n",
    "test_df.isna().sum()\n",
    "\n",
    "#Concatenate both train and test dataframes in into df & count the prefix they are and their values.\n",
    "df = pd.concat([train_df, test_df])\n",
    "df.Name.str.split(', ', expand=True)[1].str.split('.', expand=True)[0].value_counts()\n",
    "\n",
    "df\n"
   ]
  },
  {
   "cell_type": "code",
   "execution_count": null,
   "metadata": {},
   "outputs": [],
   "source": [
    "train_df.isna().sum()\n",
    "test_df.isna().sum()\n",
    "print(train_df.info())"
   ]
  },
  {
   "cell_type": "code",
   "execution_count": null,
   "metadata": {},
   "outputs": [],
   "source": [
    "#Cleaning Starts\n",
    "#Cleaning Function\n",
    "def clean(df):\n",
    "    df.drop(['Cabin'], axis=1,inplace=True)\n",
    "    df['Surname'] = df.Name.str.split(', ', expand=True)[0]\n",
    "    df['Honourific'] = df.Name.str.split(', ', expand=True)[1].str.split('.', expand=True)[0]\n",
    "    df.drop(['Name'], axis=1,inplace=True)\n",
    "   \n",
    "    for x in ['Mlle', 'Ms']:\n",
    "        df.Honourific = df.Honourific.replace(x, 'Miss')\n",
    "    for x in ['Lady', 'Mme', 'the Countess', 'Dona']:\n",
    "        df.Honourific = df.Honourific.replace(x, 'Mrs')\n",
    "    for x in ['Sir', 'Don']:\n",
    "        df.Honourific = df.Honourific.replace(x, 'Mr')\n",
    "    for x in ['Dr', 'Rev', 'Major', 'Col', 'Capt']:\n",
    "        df.Honourific = df.Honourific.replace(x, 'Others')\n",
    "    df.Honourific = df.Honourific.replace('Jonkheer', 'Master')\n",
    "    return df\n",
    "\n",
    "train_df = clean(train_df)\n",
    "test_df = clean(test_df)\n",
    "\n",
    "print('Only Train: ', len(set(train_df.Surname.unique()).difference(set(test_df.Surname.unique()))))\n",
    "print('Only test: ', len(set(test_df.Surname.unique()).difference(set(train_df.Surname.unique()))))\n",
    "print('Both Train & Test: ', len(set(train_df.Surname.unique()).intersection(set(test_df.Surname.unique()))))\n",
    "\n",
    "train_df.drop(['Surname'], axis = 1, inplace=True)\n",
    "test_df.drop(['Surname'], axis =1, inplace=True )\n",
    "\n",
    "df = pd.concat([train_df,test_df])\n",
    "#Cleaning Ends"
   ]
  },
  {
   "cell_type": "code",
   "execution_count": null,
   "metadata": {},
   "outputs": [],
   "source": [
    "df"
   ]
  },
  {
   "cell_type": "code",
   "execution_count": null,
   "metadata": {},
   "outputs": [],
   "source": [
    "#Find the mean age of the group of people having the same prefix/honourific\n",
    "for title in df.Honourific.unique():\n",
    "    print(f'{title}:', df[df. Honourific == title].Age.mean())"
   ]
  },
  {
   "cell_type": "code",
   "execution_count": null,
   "metadata": {},
   "outputs": [],
   "source": [
    "#Count of values in the field 'Embarked' & null value check for the field/column 'Fare'.\n",
    "df.Embarked.value_counts()\n",
    "df[df.Fare.isna()]"
   ]
  },
  {
   "cell_type": "code",
   "execution_count": null,
   "metadata": {},
   "outputs": [],
   "source": [
    "df['Honourific'].value_counts()"
   ]
  },
  {
   "cell_type": "code",
   "execution_count": 9,
   "metadata": {},
   "outputs": [],
   "source": [
    "#Use this function to find the missing entries.\n",
    "def missing_entry(df):\n",
    "    df.Embarked = df.Embarked.fillna('S')\n",
    "    df.Fare = df.Fare.fillna(13.3)\n",
    "\n",
    "    df.loc[(df.Honourific == 'Mr'), 'Age'] = df.loc[(df.Honourific == 'Mr'), 'Age'].fillna(32.8)\n",
    "    df.loc[(df.Honourific == 'Mrs'),'Age'] = df.loc[(df.Honourific == 'Mrs'), 'Age'].fillna(37)\n",
    "    df.loc[(df.Honourific == 'Miss'),'Age'] = df.loc[(df.Honourific == 'Miss'), 'Age'].fillna(21.8)\n",
    "    df.loc[(df.Honourific == 'Master'), 'Age'] = df.loc[(df.Honourific == 'Master'), 'Age'].fillna(6.1)\n",
    "\n",
    "    return df"
   ]
  },
  {
   "cell_type": "code",
   "execution_count": null,
   "metadata": {},
   "outputs": [],
   "source": [
    "#Use missing entries function on 'train' and 'test' DataFrames.\n",
    "train_df = missing_entry(train_df)\n",
    "test_df = missing_entry(test_df)\n",
    "\n",
    "#Concatenate & assign to 'df'.\n",
    "df = pd.concat([train_df, test_df])\n",
    "df['Fare'].corr"
   ]
  }
 ],
 "metadata": {
  "kernelspec": {
   "display_name": "Python 3",
   "language": "python",
   "name": "python3"
  },
  "language_info": {
   "codemirror_mode": {
    "name": "ipython",
    "version": 3
   },
   "file_extension": ".py",
   "mimetype": "text/x-python",
   "name": "python",
   "nbconvert_exporter": "python",
   "pygments_lexer": "ipython3",
   "version": "3.8.10"
  },
  "orig_nbformat": 4
 },
 "nbformat": 4,
 "nbformat_minor": 2
}
